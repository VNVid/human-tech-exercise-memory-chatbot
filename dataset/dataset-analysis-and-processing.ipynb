{
 "cells": [
  {
   "cell_type": "code",
   "id": "7b2f91c5",
   "metadata": {
    "ExecuteTime": {
     "end_time": "2025-06-24T22:58:23.066364Z",
     "start_time": "2025-06-24T22:58:22.465271Z"
    }
   },
   "source": [
    "import pandas as pd\n",
    "import requests\n",
    "from IPython.display import Image, display"
   ],
   "outputs": [],
   "execution_count": 1
  },
  {
   "cell_type": "markdown",
   "id": "223bef86",
   "metadata": {},
   "source": [
    "## Initial dataset"
   ]
  },
  {
   "cell_type": "markdown",
   "id": "04a2c23d",
   "metadata": {},
   "source": [
    "Loading dataset"
   ]
  },
  {
   "cell_type": "code",
   "execution_count": 2,
   "metadata": {},
   "outputs": [],
   "source": [
    "file_path = \"exercises.csv\"\n",
    "df = pd.read_csv(file_path)"
   ],
   "id": "b0f21a20ea0b4f72"
  },
  {
   "cell_type": "markdown",
   "id": "a5e8b8c5",
   "metadata": {},
   "source": [
    "Analysing dataset"
   ]
  },
  {
   "cell_type": "code",
   "execution_count": 3,
   "id": "b94fc574",
   "metadata": {},
   "outputs": [
    {
     "name": "stdout",
     "output_type": "stream",
     "text": [
      "<class 'pandas.core.frame.DataFrame'>\n",
      "RangeIndex: 1324 entries, 0 to 1323\n",
      "Data columns (total 23 columns):\n",
      " #   Column              Non-Null Count  Dtype \n",
      "---  ------              --------------  ----- \n",
      " 0   bodyPart            1324 non-null   object\n",
      " 1   equipment           1324 non-null   object\n",
      " 2   gifUrl              1324 non-null   object\n",
      " 3   id                  1324 non-null   int64 \n",
      " 4   name                1324 non-null   object\n",
      " 5   target              1324 non-null   object\n",
      " 6   secondaryMuscles/0  1324 non-null   object\n",
      " 7   secondaryMuscles/1  986 non-null    object\n",
      " 8   instructions/0      1324 non-null   object\n",
      " 9   instructions/1      1324 non-null   object\n",
      " 10  instructions/2      1324 non-null   object\n",
      " 11  instructions/3      1324 non-null   object\n",
      " 12  instructions/4      1242 non-null   object\n",
      " 13  instructions/5      739 non-null    object\n",
      " 14  secondaryMuscles/2  233 non-null    object\n",
      " 15  instructions/6      313 non-null    object\n",
      " 16  instructions/7      92 non-null     object\n",
      " 17  secondaryMuscles/3  32 non-null     object\n",
      " 18  instructions/8      20 non-null     object\n",
      " 19  secondaryMuscles/4  4 non-null      object\n",
      " 20  instructions/9      5 non-null      object\n",
      " 21  secondaryMuscles/5  2 non-null      object\n",
      " 22  instructions/10     3 non-null      object\n",
      "dtypes: int64(1), object(22)\n",
      "memory usage: 238.0+ KB\n"
     ]
    },
    {
     "data": {
      "text/plain": [
       "(None,\n",
       "      bodyPart    equipment                                         gifUrl  \\\n",
       " 0       waist  body weight  https://v2.exercisedb.io/image/MOnK4iG0MEt9h8   \n",
       " 1       waist  body weight  https://v2.exercisedb.io/image/PERWLDGUxVbpHS   \n",
       " 2       waist  body weight  https://v2.exercisedb.io/image/PLr4yo3j-f1amp   \n",
       " 3  upper legs  body weight  https://v2.exercisedb.io/image/XPQwM7HECjgNFE   \n",
       " 4       waist  body weight  https://v2.exercisedb.io/image/5nYph4eUGNiEdf   \n",
       " \n",
       "      id                     name target secondaryMuscles/0 secondaryMuscles/1  \\\n",
       " 0     1               3/4 sit-up    abs        hip flexors         lower back   \n",
       " 1     2            45° side bend    abs           obliques                NaN   \n",
       " 2     3                 air bike    abs        hip flexors                NaN   \n",
       " 3  1512  all fours squad stretch  quads         hamstrings             glutes   \n",
       " 4     6  alternate heel touchers    abs           obliques                NaN   \n",
       " \n",
       "                                       instructions/0  \\\n",
       " 0  Lie flat on your back with your knees bent and...   \n",
       " 1  Stand with your feet shoulder-width apart and ...   \n",
       " 2  Lie flat on your back with your hands placed b...   \n",
       " 3  Start on all fours with your hands directly un...   \n",
       " 4  Lie flat on your back with your knees bent and...   \n",
       " \n",
       "                                       instructions/1  ... instructions/5  \\\n",
       " 0  Place your hands behind your head with your el...  ...            NaN   \n",
       " 1  Keeping your back straight and your core engag...  ...            NaN   \n",
       " 2  Lift your legs off the ground and bend your kn...  ...            NaN   \n",
       " 3  Extend one leg straight back, keeping your kne...  ...            NaN   \n",
       " 4  Extend your arms straight out to the sides, pa...  ...            NaN   \n",
       " \n",
       "   secondaryMuscles/2 instructions/6 instructions/7 secondaryMuscles/3  \\\n",
       " 0                NaN            NaN            NaN                NaN   \n",
       " 1                NaN            NaN            NaN                NaN   \n",
       " 2                NaN            NaN            NaN                NaN   \n",
       " 3                NaN            NaN            NaN                NaN   \n",
       " 4                NaN            NaN            NaN                NaN   \n",
       " \n",
       "   instructions/8 secondaryMuscles/4 instructions/9 secondaryMuscles/5  \\\n",
       " 0            NaN                NaN            NaN                NaN   \n",
       " 1            NaN                NaN            NaN                NaN   \n",
       " 2            NaN                NaN            NaN                NaN   \n",
       " 3            NaN                NaN            NaN                NaN   \n",
       " 4            NaN                NaN            NaN                NaN   \n",
       " \n",
       "   instructions/10  \n",
       " 0             NaN  \n",
       " 1             NaN  \n",
       " 2             NaN  \n",
       " 3             NaN  \n",
       " 4             NaN  \n",
       " \n",
       " [5 rows x 23 columns])"
      ]
     },
     "execution_count": 3,
     "metadata": {},
     "output_type": "execute_result"
    }
   ],
   "source": [
    "# Display basic info and show the first few rows\n",
    "df.info(), df.head()"
   ]
  },
  {
   "cell_type": "code",
   "execution_count": 6,
   "id": "3d4ce145",
   "metadata": {},
   "outputs": [
    {
     "name": "stdout",
     "output_type": "stream",
     "text": [
      "bodyPart - 10 unique values:\n",
      "['waist', 'upper legs', 'back', 'lower legs', 'chest', 'upper arms', 'cardio', 'shoulders', 'lower arms', 'neck']\n",
      "\n",
      "equipment - 28 unique values:\n",
      "['body weight', 'cable', 'leverage machine', 'assisted', 'medicine ball', 'stability ball', 'band', 'barbell', 'rope', 'dumbbell', 'ez barbell', 'sled machine', 'upper body ergometer', 'kettlebell', 'olympic barbell', 'weighted', 'bosu ball', 'resistance band', 'roller', 'skierg machine', 'hammer', 'smith machine', 'wheel roller', 'stationary bike', 'tire', 'trap bar', 'elliptical machine', 'stepmill machine']\n",
      "\n",
      "target - 19 unique values:\n",
      "['abs', 'quads', 'lats', 'calves', 'pectorals', 'glutes', 'hamstrings', 'adductors', 'triceps', 'cardiovascular system', 'spine', 'upper back', 'biceps', 'delts', 'forearms', 'traps', 'serratus anterior', 'abductors', 'levator scapulae']\n",
      "\n"
     ]
    }
   ],
   "source": [
    "# Extract unique values from categorical columns\n",
    "categorical_columns = ['bodyPart', 'equipment', 'target']\n",
    "\n",
    "for col in categorical_columns:\n",
    "    unique_vals = df[col].unique().tolist()\n",
    "    print(f\"{col} - {len(unique_vals)} unique values:\\n{unique_vals}\\n\")"
   ]
  },
  {
   "cell_type": "markdown",
   "id": "f58a1164",
   "metadata": {},
   "source": [
    "Checking GIF URLs"
   ]
  },
  {
   "cell_type": "code",
   "execution_count": 9,
   "id": "e5ebb5b1",
   "metadata": {},
   "outputs": [],
   "source": [
    "# Check the availability of gif URLs and display a few\n",
    "working_gif_urls = []\n",
    "broken_gif_urls = []\n",
    "\n",
    "# Limit checks to the first 20 for display and quick results\n",
    "for url in df['gifUrl'][:20]:\n",
    "    try:\n",
    "        response = requests.head(url, allow_redirects=True, timeout=5)\n",
    "        if response.status_code == 200:\n",
    "            working_gif_urls.append(url)\n",
    "        else:\n",
    "            broken_gif_urls.append(url)\n",
    "    except requests.RequestException:\n",
    "        broken_gif_urls.append(url)\n",
    "\n",
    "# Display some working GIFs\n",
    "for url in working_gif_urls[:5]:\n",
    "    display(Image(url=url))"
   ]
  },
  {
   "cell_type": "code",
   "execution_count": 13,
   "id": "534e48aa",
   "metadata": {},
   "outputs": [
    {
     "data": {
      "text/plain": [
       "['https://v2.exercisedb.io/image/MOnK4iG0MEt9h8',\n",
       " 'https://v2.exercisedb.io/image/PERWLDGUxVbpHS',\n",
       " 'https://v2.exercisedb.io/image/PLr4yo3j-f1amp',\n",
       " 'https://v2.exercisedb.io/image/XPQwM7HECjgNFE',\n",
       " 'https://v2.exercisedb.io/image/5nYph4eUGNiEdf',\n",
       " 'https://v2.exercisedb.io/image/Az5UYVYNa4j-oS',\n",
       " 'https://v2.exercisedb.io/image/ivmTcSJsMlXJeK',\n",
       " 'https://v2.exercisedb.io/image/LSBkdKcbK4xj8n',\n",
       " 'https://v2.exercisedb.io/image/GSjHZGSiL1VbQ7',\n",
       " 'https://v2.exercisedb.io/image/osybi41Me6RFK2',\n",
       " 'https://v2.exercisedb.io/image/yzS2EjySGDLmhh',\n",
       " 'https://v2.exercisedb.io/image/sGs-MoFgyniLX4',\n",
       " 'https://v2.exercisedb.io/image/WzINsIEOqFbBXG',\n",
       " 'https://v2.exercisedb.io/image/AbxK1fjW5YdIBj',\n",
       " 'https://v2.exercisedb.io/image/dgsJoe9nZI6G3Z',\n",
       " 'https://v2.exercisedb.io/image/apDkfV7kzgRGlV',\n",
       " 'https://v2.exercisedb.io/image/FHWElls92kFz7u',\n",
       " 'https://v2.exercisedb.io/image/pIPCvG-7PYwJyb',\n",
       " 'https://v2.exercisedb.io/image/re-rcIyamJTP9k',\n",
       " 'https://v2.exercisedb.io/image/tcoPW9l8mI0o23']"
      ]
     },
     "execution_count": 13,
     "metadata": {},
     "output_type": "execute_result"
    }
   ],
   "source": [
    "broken_gif_urls"
   ]
  },
  {
   "cell_type": "markdown",
   "id": "8bd9a43f",
   "metadata": {},
   "source": [
    "All URLs are broken."
   ]
  },
  {
   "cell_type": "markdown",
   "id": "aa46304e",
   "metadata": {},
   "source": [
    "## Updated dataset (with watermarks)"
   ]
  },
  {
   "cell_type": "markdown",
   "id": "c5be59d3",
   "metadata": {},
   "source": [
    "Checking updated dataset"
   ]
  },
  {
   "cell_type": "markdown",
   "id": "22903959",
   "metadata": {},
   "source": [
    "Loading dataset"
   ]
  },
  {
   "cell_type": "code",
   "execution_count": 14,
   "id": "63b8c269",
   "metadata": {},
   "outputs": [],
   "source": [
    "file_path = \"updated_fitness_exercises.csv\"\n",
    "df = pd.read_csv(file_path)"
   ]
  },
  {
   "cell_type": "markdown",
   "id": "c3f359cb",
   "metadata": {},
   "source": [
    "Analysing dataset"
   ]
  },
  {
   "cell_type": "code",
   "execution_count": 22,
   "id": "50b54bd3",
   "metadata": {},
   "outputs": [
    {
     "name": "stdout",
     "output_type": "stream",
     "text": [
      "bodyPart - 10 unique values:\n",
      "['waist', 'upper legs', 'back', 'lower legs', 'chest', 'upper arms', 'cardio', 'shoulders', 'lower arms', 'neck']\n",
      "\n",
      "equipment - 28 unique values:\n",
      "['body weight', 'cable', 'leverage machine', 'assisted', 'medicine ball', 'stability ball', 'band', 'barbell', 'rope', 'dumbbell', 'ez barbell', 'sled machine', 'upper body ergometer', 'kettlebell', 'olympic barbell', 'weighted', 'bosu ball', 'resistance band', 'roller', 'skierg machine', 'hammer', 'smith machine', 'wheel roller', 'stationary bike', 'tire', 'trap bar', 'elliptical machine', 'stepmill machine']\n",
      "\n",
      "target - 19 unique values:\n",
      "['abs', 'quads', 'lats', 'calves', 'pectorals', 'glutes', 'hamstrings', 'adductors', 'triceps', 'cardiovascular system', 'spine', 'upper back', 'biceps', 'delts', 'forearms', 'traps', 'serratus anterior', 'abductors', 'levator scapulae']\n",
      "\n"
     ]
    }
   ],
   "source": [
    "# Extract unique values from categorical columns\n",
    "categorical_columns = ['bodyPart', 'equipment', 'target']\n",
    "\n",
    "for col in categorical_columns:\n",
    "    unique_vals = df[col].unique().tolist()\n",
    "    print(f\"{col} - {len(unique_vals)} unique values:\\n{unique_vals}\\n\")"
   ]
  },
  {
   "cell_type": "markdown",
   "id": "37f09628",
   "metadata": {},
   "source": [
    "Checking GIF URLs"
   ]
  },
  {
   "cell_type": "code",
   "execution_count": 18,
   "id": "10febc53",
   "metadata": {},
   "outputs": [],
   "source": [
    "# Check the availability of gif URLs and display a few\n",
    "working_gif_urls = []\n",
    "broken_gif_urls = []\n",
    "\n",
    "for idx, url in enumerate(df['gifUrl']):\n",
    "    try:\n",
    "        response = requests.head(url, allow_redirects=True, timeout=5)\n",
    "        if response.status_code == 200:\n",
    "            working_gif_urls.append(idx)\n",
    "        else:\n",
    "            broken_gif_urls.append(idx)\n",
    "    except requests.RequestException:\n",
    "        broken_gif_urls.append(idx)"
   ]
  },
  {
   "cell_type": "code",
   "execution_count": 19,
   "id": "a39ae657",
   "metadata": {},
   "outputs": [
    {
     "data": {
      "text/plain": [
       "(780, 547)"
      ]
     },
     "execution_count": 19,
     "metadata": {},
     "output_type": "execute_result"
    }
   ],
   "source": [
    "len(working_gif_urls), len(broken_gif_urls)"
   ]
  },
  {
   "cell_type": "markdown",
   "id": "2d600a56",
   "metadata": {},
   "source": [
    "## Creating new dataset"
   ]
  },
  {
   "cell_type": "markdown",
   "id": "b8d733db",
   "metadata": {},
   "source": [
    "Create new dataset with only working URLs"
   ]
  },
  {
   "cell_type": "code",
   "id": "576e312b",
   "metadata": {
    "ExecuteTime": {
     "end_time": "2025-06-24T22:58:23.629572Z",
     "start_time": "2025-06-24T22:58:23.357719Z"
    }
   },
   "source": [
    "df_working = df.loc[working_gif_urls].reset_index(drop=True)\n",
    "\n",
    "# Save to CSV\n",
    "df_working.to_csv(\"exercises_working_gifs.csv\", index=False)"
   ],
   "outputs": [
    {
     "ename": "NameError",
     "evalue": "name 'df' is not defined",
     "output_type": "error",
     "traceback": [
      "\u001B[31m---------------------------------------------------------------------------\u001B[39m",
      "\u001B[31mNameError\u001B[39m                                 Traceback (most recent call last)",
      "\u001B[36mCell\u001B[39m\u001B[36m \u001B[39m\u001B[32mIn[2]\u001B[39m\u001B[32m, line 1\u001B[39m\n\u001B[32m----> \u001B[39m\u001B[32m1\u001B[39m df_working = \u001B[43mdf\u001B[49m.loc[working_gif_urls].reset_index(drop=\u001B[38;5;28;01mTrue\u001B[39;00m)\n\u001B[32m      3\u001B[39m \u001B[38;5;66;03m# Save to CSV\u001B[39;00m\n\u001B[32m      4\u001B[39m df_working.to_csv(\u001B[33m\"\u001B[39m\u001B[33mexercises_working_gifs.csv\u001B[39m\u001B[33m\"\u001B[39m, index=\u001B[38;5;28;01mFalse\u001B[39;00m)\n",
      "\u001B[31mNameError\u001B[39m: name 'df' is not defined"
     ]
    }
   ],
   "execution_count": 2
  },
  {
   "cell_type": "markdown",
   "id": "dfd3fb3d",
   "metadata": {},
   "source": [
    "Display some of them"
   ]
  },
  {
   "cell_type": "code",
   "execution_count": 21,
   "id": "c8fad5eb",
   "metadata": {},
   "outputs": [
    {
     "data": {
      "text/html": [
       "<img src=\"https://gymvisual.com/img/p/4/7/3/1/4731.gif\"/>"
      ],
      "text/plain": [
       "<IPython.core.display.Image object>"
      ]
     },
     "metadata": {},
     "output_type": "display_data"
    },
    {
     "data": {
      "text/html": [
       "<img src=\"https://gymvisual.com/img/p/3/2/4/0/6/32406.gif\"/>"
      ],
      "text/plain": [
       "<IPython.core.display.Image object>"
      ]
     },
     "metadata": {},
     "output_type": "display_data"
    },
    {
     "data": {
      "text/html": [
       "<img src=\"https://gymvisual.com/img/p/2/1/7/4/6/21746.gif\"/>"
      ],
      "text/plain": [
       "<IPython.core.display.Image object>"
      ]
     },
     "metadata": {},
     "output_type": "display_data"
    },
    {
     "data": {
      "text/html": [
       "<img src=\"https://gymvisual.com/img/p/1/7/3/2/0/17320.gif\"/>"
      ],
      "text/plain": [
       "<IPython.core.display.Image object>"
      ]
     },
     "metadata": {},
     "output_type": "display_data"
    },
    {
     "data": {
      "text/html": [
       "<img src=\"https://gymvisual.com/img/p/4/7/3/8/4738.gif\"/>"
      ],
      "text/plain": [
       "<IPython.core.display.Image object>"
      ]
     },
     "metadata": {},
     "output_type": "display_data"
    }
   ],
   "source": [
    "# Display some working GIFs\n",
    "for url in df_working['gifUrl'][:5]:\n",
    "    display(Image(url=url))"
   ]
  },
  {
   "cell_type": "markdown",
   "id": "5bcf1f39",
   "metadata": {},
   "source": [
    "Loading dataset"
   ]
  },
  {
   "cell_type": "code",
   "id": "fd122a59",
   "metadata": {
    "ExecuteTime": {
     "end_time": "2025-06-24T22:58:29.272604Z",
     "start_time": "2025-06-24T22:58:29.237247Z"
    }
   },
   "source": [
    "file_path = \"exercises_working_gifs.csv\"\n",
    "df_working = pd.read_csv(file_path)"
   ],
   "outputs": [],
   "execution_count": 3
  },
  {
   "cell_type": "markdown",
   "id": "fe5f8322",
   "metadata": {},
   "source": [
    "Analysis"
   ]
  },
  {
   "cell_type": "code",
   "execution_count": 23,
   "id": "05a06e2b",
   "metadata": {},
   "outputs": [
    {
     "name": "stdout",
     "output_type": "stream",
     "text": [
      "bodyPart - 9 unique values:\n",
      "['waist', 'upper legs', 'back', 'lower legs', 'chest', 'upper arms', 'cardio', 'shoulders', 'lower arms']\n",
      "\n",
      "equipment - 14 unique values:\n",
      "['body weight', 'cable', 'leverage machine', 'assisted', 'medicine ball', 'stability ball', 'band', 'barbell', 'rope', 'dumbbell', 'ez barbell', 'sled machine', 'upper body ergometer', 'kettlebell']\n",
      "\n",
      "target - 17 unique values:\n",
      "['abs', 'quads', 'lats', 'calves', 'glutes', 'pectorals', 'hamstrings', 'adductors', 'triceps', 'cardiovascular system', 'spine', 'upper back', 'biceps', 'delts', 'forearms', 'traps', 'serratus anterior']\n",
      "\n"
     ]
    }
   ],
   "source": [
    "# Extract unique values from categorical columns\n",
    "categorical_columns = ['bodyPart', 'equipment', 'target']\n",
    "\n",
    "for col in categorical_columns:\n",
    "    unique_vals = df_working[col].unique().tolist()\n",
    "    print(f\"{col} - {len(unique_vals)} unique values:\\n{unique_vals}\\n\")"
   ]
  },
  {
   "cell_type": "markdown",
   "id": "4d92bb20",
   "metadata": {},
   "source": [
    "Checking IDs"
   ]
  },
  {
   "cell_type": "code",
   "id": "977e76f9",
   "metadata": {
    "ExecuteTime": {
     "end_time": "2025-06-24T22:58:58.415129Z",
     "start_time": "2025-06-24T22:58:58.408608Z"
    }
   },
   "source": [
    "file_path = \"exercises_working_gifs.csv\"\n",
    "df = pd.read_csv(file_path)"
   ],
   "outputs": [],
   "execution_count": 4
  },
  {
   "cell_type": "code",
   "execution_count": 3,
   "id": "e51bc1cc",
   "metadata": {},
   "outputs": [
    {
     "name": "stdout",
     "output_type": "stream",
     "text": [
      "<class 'pandas.core.frame.DataFrame'>\n",
      "RangeIndex: 780 entries, 0 to 779\n",
      "Data columns (total 6 columns):\n",
      " #   Column     Non-Null Count  Dtype \n",
      "---  ------     --------------  ----- \n",
      " 0   bodyPart   780 non-null    object\n",
      " 1   equipment  780 non-null    object\n",
      " 2   gifUrl     780 non-null    object\n",
      " 3   id         780 non-null    int64 \n",
      " 4   name       780 non-null    object\n",
      " 5   target     780 non-null    object\n",
      "dtypes: int64(1), object(5)\n",
      "memory usage: 36.7+ KB\n"
     ]
    }
   ],
   "source": [
    "df.info()"
   ]
  },
  {
   "cell_type": "code",
   "execution_count": 5,
   "id": "e29c01ba",
   "metadata": {},
   "outputs": [
    {
     "data": {
      "text/plain": [
       "780"
      ]
     },
     "execution_count": 5,
     "metadata": {},
     "output_type": "execute_result"
    }
   ],
   "source": [
    "len(df['id'].unique())"
   ]
  },
  {
   "cell_type": "markdown",
   "id": "c6e40004",
   "metadata": {},
   "source": [
    "Exercise distribution by part of body"
   ]
  },
  {
   "cell_type": "code",
   "execution_count": 6,
   "id": "5a50f0b0",
   "metadata": {},
   "outputs": [
    {
     "data": {
      "text/html": [
       "<div>\n",
       "<style scoped>\n",
       "    .dataframe tbody tr th:only-of-type {\n",
       "        vertical-align: middle;\n",
       "    }\n",
       "\n",
       "    .dataframe tbody tr th {\n",
       "        vertical-align: top;\n",
       "    }\n",
       "\n",
       "    .dataframe thead th {\n",
       "        text-align: right;\n",
       "    }\n",
       "</style>\n",
       "<table border=\"1\" class=\"dataframe\">\n",
       "  <thead>\n",
       "    <tr style=\"text-align: right;\">\n",
       "      <th></th>\n",
       "      <th>bodyPart</th>\n",
       "      <th>count</th>\n",
       "    </tr>\n",
       "  </thead>\n",
       "  <tbody>\n",
       "    <tr>\n",
       "      <th>0</th>\n",
       "      <td>upper arms</td>\n",
       "      <td>227</td>\n",
       "    </tr>\n",
       "    <tr>\n",
       "      <th>1</th>\n",
       "      <td>upper legs</td>\n",
       "      <td>108</td>\n",
       "    </tr>\n",
       "    <tr>\n",
       "      <th>2</th>\n",
       "      <td>back</td>\n",
       "      <td>106</td>\n",
       "    </tr>\n",
       "    <tr>\n",
       "      <th>3</th>\n",
       "      <td>shoulders</td>\n",
       "      <td>95</td>\n",
       "    </tr>\n",
       "    <tr>\n",
       "      <th>4</th>\n",
       "      <td>chest</td>\n",
       "      <td>94</td>\n",
       "    </tr>\n",
       "    <tr>\n",
       "      <th>5</th>\n",
       "      <td>waist</td>\n",
       "      <td>83</td>\n",
       "    </tr>\n",
       "    <tr>\n",
       "      <th>6</th>\n",
       "      <td>lower legs</td>\n",
       "      <td>28</td>\n",
       "    </tr>\n",
       "    <tr>\n",
       "      <th>7</th>\n",
       "      <td>lower arms</td>\n",
       "      <td>27</td>\n",
       "    </tr>\n",
       "    <tr>\n",
       "      <th>8</th>\n",
       "      <td>cardio</td>\n",
       "      <td>12</td>\n",
       "    </tr>\n",
       "  </tbody>\n",
       "</table>\n",
       "</div>"
      ],
      "text/plain": [
       "     bodyPart  count\n",
       "0  upper arms    227\n",
       "1  upper legs    108\n",
       "2        back    106\n",
       "3   shoulders     95\n",
       "4       chest     94\n",
       "5       waist     83\n",
       "6  lower legs     28\n",
       "7  lower arms     27\n",
       "8      cardio     12"
      ]
     },
     "execution_count": 6,
     "metadata": {},
     "output_type": "execute_result"
    }
   ],
   "source": [
    "# Count the number of rows for each unique body part\n",
    "body_part_counts = df_working[\"bodyPart\"].value_counts().reset_index()\n",
    "body_part_counts.columns = [\"bodyPart\", \"count\"]\n",
    "\n",
    "body_part_counts\n"
   ]
  },
  {
   "cell_type": "code",
   "execution_count": null,
   "id": "e81573a1",
   "metadata": {},
   "outputs": [],
   "source": []
  },
  {
   "metadata": {},
   "cell_type": "code",
   "outputs": [],
   "execution_count": null,
   "source": "",
   "id": "d26aa5ec2432db7a"
  },
  {
   "metadata": {
    "ExecuteTime": {
     "end_time": "2025-06-24T23:48:43.513460Z",
     "start_time": "2025-06-24T23:48:43.498156Z"
    }
   },
   "cell_type": "code",
   "source": [
    "import pandas as pd\n",
    "from IPython.display import Image, display\n",
    "\n",
    "df = pd.read_csv('exercises_working_gifs.csv')\n",
    "\n",
    "ids_to_display = [527, 520, 379]\n",
    "\n",
    "filtered_df = df[df['id'].isin(ids_to_display)]\n",
    "\n",
    "for _, row in filtered_df.iterrows():\n",
    "    print(row['name'])\n",
    "    display(Image(url=row['gifUrl']))"
   ],
   "id": "8e242e014030ffbd",
   "outputs": [
    {
     "name": "stdout",
     "output_type": "stream",
     "text": [
      "dumbbell rear lateral raise (support head)\n"
     ]
    },
    {
     "data": {
      "text/html": [
       "<img src=\"https://gymvisual.com/img/p/5/1/2/0/5120.gif\"/>"
      ],
      "text/plain": [
       "<IPython.core.display.Image object>"
      ]
     },
     "metadata": {},
     "output_type": "display_data"
    },
    {
     "name": "stdout",
     "output_type": "stream",
     "text": [
      "kettlebell alternating press\n"
     ]
    },
    {
     "data": {
      "text/html": [
       "<img src=\"https://gymvisual.com/img/p/1/0/7/0/5/10705.gif\"/>"
      ],
      "text/plain": [
       "<IPython.core.display.Image object>"
      ]
     },
     "metadata": {},
     "output_type": "display_data"
    },
    {
     "name": "stdout",
     "output_type": "stream",
     "text": [
      "kettlebell double jerk\n"
     ]
    },
    {
     "data": {
      "text/html": [
       "<img src=\"https://gymvisual.com/img/p/5/2/6/5/5265.gif\"/>"
      ],
      "text/plain": [
       "<IPython.core.display.Image object>"
      ]
     },
     "metadata": {},
     "output_type": "display_data"
    }
   ],
   "execution_count": 9
  },
  {
   "metadata": {},
   "cell_type": "code",
   "outputs": [],
   "execution_count": null,
   "source": "",
   "id": "334a3999974ae249"
  }
 ],
 "metadata": {
  "kernelspec": {
   "display_name": "jupyter_env",
   "language": "python",
   "name": "python3"
  },
  "language_info": {
   "codemirror_mode": {
    "name": "ipython",
    "version": 3
   },
   "file_extension": ".py",
   "mimetype": "text/x-python",
   "name": "python",
   "nbconvert_exporter": "python",
   "pygments_lexer": "ipython3",
   "version": "3.12.3"
  }
 },
 "nbformat": 4,
 "nbformat_minor": 5
}
